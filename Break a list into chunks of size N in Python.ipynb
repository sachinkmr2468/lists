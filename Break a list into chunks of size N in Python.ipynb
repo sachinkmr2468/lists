{
 "cells": [
  {
   "cell_type": "markdown",
   "metadata": {},
   "source": [
    "# Break a list into chunks of size N in Python\n",
    "#The yield keyword enables a function to comeback where it left off when it is called again. \n",
    "#This is the critical difference from a regular function. A regular function cannot comes back where it left off. \n",
    "#The yield keyword helps a function to remember its state.\n",
    "#The yield enables a function to suspend and resume while it turns in a value at the time of the suspension of the execution.\n"
   ]
  },
  {
   "cell_type": "code",
   "execution_count": 30,
   "metadata": {},
   "outputs": [
    {
     "name": "stdout",
     "output_type": "stream",
     "text": [
      "[['hi', 'hey', 'sup'], ['good', 'bad', 'great'], ['nice', 'bye', 'see you']]\n"
     ]
    }
   ],
   "source": [
    "list1 = ['hi','hey','sup','good','bad','great','nice','bye','see you']\n",
    "def divide_chunks(list1,n):\n",
    "    for i in range(0, len(list1),n):\n",
    "        yield list1[i:i+n]\n",
    "        \n",
    "n = 3\n",
    "x = list(divide_chunks(list1,n))\n",
    "print(x)"
   ]
  },
  {
   "cell_type": "code",
   "execution_count": null,
   "metadata": {},
   "outputs": [],
   "source": []
  }
 ],
 "metadata": {
  "kernelspec": {
   "display_name": "Python 3",
   "language": "python",
   "name": "python3"
  }
 },
 "nbformat": 4,
 "nbformat_minor": 4
}
