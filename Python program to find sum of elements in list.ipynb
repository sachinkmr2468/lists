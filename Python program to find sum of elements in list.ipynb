{
 "cells": [
  {
   "cell_type": "markdown",
   "metadata": {},
   "source": [
    "# Python program to find sum of elements in list\n",
    "#sum(list)"
   ]
  },
  {
   "cell_type": "code",
   "execution_count": 25,
   "metadata": {},
   "outputs": [
    {
     "name": "stdout",
     "output_type": "stream",
     "text": [
      "75\n"
     ]
    }
   ],
   "source": [
    "lst = [10, 11, 12, 13, 14, 15]\n",
    "\n",
    "sum = 0\n",
    "\n",
    "for i in lst:\n",
    "    sum = sum + i\n",
    "print(sum)\n",
    "    "
   ]
  },
  {
   "cell_type": "code",
   "execution_count": 43,
   "metadata": {},
   "outputs": [
    {
     "name": "stdout",
     "output_type": "stream",
     "text": [
      "enter the lenght of list of your interest4\n",
      "enter the elements of your list1\n",
      "enter the elements of your list2\n",
      "enter the elements of your list3\n",
      "enter the elements of your list4\n",
      "[1, 2, 3, 4]\n"
     ]
    }
   ],
   "source": [
    "# user defined list\n",
    "lst = []\n",
    "len_of_lst = int(input('enter the lenght of list of your interest'))\n",
    "addition = 0\n",
    "\n",
    "for i in range(len_of_lst):\n",
    "    num = int(input('enter the elements of your list'))\n",
    "    lst.append(num)\n",
    "    \n",
    "     \n",
    "print(lst)\n",
    "\n",
    "    \n",
    "    \n"
   ]
  }
 ],
 "metadata": {
  "kernelspec": {
   "display_name": "Python 3",
   "language": "python",
   "name": "python3"
  },
  "language_info": {
   "codemirror_mode": {
    "name": "ipython",
    "version": 3
   },
   "file_extension": ".py",
   "mimetype": "text/x-python",
   "name": "python",
   "nbconvert_exporter": "python",
   "pygments_lexer": "ipython3",
   "version": "3.8.5"
  }
 },
 "nbformat": 4,
 "nbformat_minor": 4
}
