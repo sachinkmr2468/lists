{
 "cells": [
  {
   "cell_type": "code",
   "execution_count": null,
   "metadata": {},
   "outputs": [],
   "source": [
    "# Python | Sum of number digits in List\n"
   ]
  },
  {
   "cell_type": "code",
   "execution_count": 26,
   "metadata": {},
   "outputs": [
    {
     "name": "stdout",
     "output_type": "stream",
     "text": [
      "[3, 13, 17, 7]\n"
     ]
    }
   ],
   "source": [
    "test_list = [12, 67, 98, 34]\n",
    "res = []\n",
    "\n",
    "for i in test_list:\n",
    "    sum = 0\n",
    "    for j in str(i):\n",
    "        sum = sum + int(j)\n",
    "    res.append(sum)\n",
    "    \n",
    "print(res)\n"
   ]
  },
  {
   "cell_type": "code",
   "execution_count": null,
   "metadata": {},
   "outputs": [],
   "source": []
  }
 ],
 "metadata": {
  "kernelspec": {
   "display_name": "Python 3",
   "language": "python",
   "name": "python3"
  }
 },
 "nbformat": 4,
 "nbformat_minor": 4
}
