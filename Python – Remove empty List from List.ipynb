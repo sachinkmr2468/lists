{
 "cells": [
  {
   "cell_type": "markdown",
   "metadata": {},
   "source": [
    "# Python – Remove empty List from List"
   ]
  },
  {
   "cell_type": "code",
   "execution_count": 21,
   "metadata": {},
   "outputs": [
    {
     "name": "stdout",
     "output_type": "stream",
     "text": [
      "the original list is = [5, 6, [], 3, [], [], 9]\n",
      "after removing the empty lists = [5, 6, 3, 9]\n"
     ]
    }
   ],
   "source": [
    "#Using filter()\n",
    "\n",
    "list1 = [5, 6, [], 3, [], [], 9]\n",
    "\n",
    "print('the original list is =', list1)\n",
    "\n",
    "rest = list(filter(None, list1))\n",
    "print('after removing the empty lists =', rest)\n",
    "       \n"
   ]
  },
  {
   "cell_type": "code",
   "execution_count": 22,
   "metadata": {},
   "outputs": [
    {
     "name": "stdout",
     "output_type": "stream",
     "text": [
      "[5, 6, 3, 9]\n"
     ]
    }
   ],
   "source": [
    "list1 = [5, 6, [], 3, [], [], 9]\n",
    "list2 = []\n",
    "for i in list1:\n",
    "    if(i!=[]):\n",
    "        list2.append(i)\n",
    "print(list2)\n",
    "        \n",
    "    "
   ]
  },
  {
   "cell_type": "code",
   "execution_count": null,
   "metadata": {},
   "outputs": [],
   "source": []
  }
 ],
 "metadata": {
  "kernelspec": {
   "display_name": "Python 3",
   "language": "python",
   "name": "python3"
  },
  "language_info": {
   "codemirror_mode": {
    "name": "ipython",
    "version": 3
   },
   "file_extension": ".py",
   "mimetype": "text/x-python",
   "name": "python",
   "nbconvert_exporter": "python",
   "pygments_lexer": "ipython3",
   "version": "3.8.5"
  }
 },
 "nbformat": 4,
 "nbformat_minor": 4
}
