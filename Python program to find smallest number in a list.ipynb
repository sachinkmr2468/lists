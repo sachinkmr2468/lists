{
 "cells": [
  {
   "cell_type": "markdown",
   "metadata": {},
   "source": [
    "# Python program to find smallest number in a list"
   ]
  },
  {
   "cell_type": "code",
   "execution_count": 13,
   "metadata": {},
   "outputs": [
    {
     "name": "stdout",
     "output_type": "stream",
     "text": [
      "smallest number is = 5\n"
     ]
    }
   ],
   "source": [
    "lst = [10,9,20,5]\n",
    "lst.sort()\n",
    "lst\n",
    "print('smallest number is =', lst[0])\n",
    "        "
   ]
  },
  {
   "cell_type": "code",
   "execution_count": 14,
   "metadata": {},
   "outputs": [
    {
     "name": "stdout",
     "output_type": "stream",
     "text": [
      "smallest element is = 5\n"
     ]
    }
   ],
   "source": [
    "# Using min() method  \n",
    "lst = [10,9,20,5]\n",
    "print('smallest element is =', min(lst))"
   ]
  },
  {
   "cell_type": "code",
   "execution_count": 15,
   "metadata": {},
   "outputs": [
    {
     "name": "stdout",
     "output_type": "stream",
     "text": [
      "enter the size of your desired list4\n",
      "enter the elements of the list1\n",
      "enter the elements of the list2\n",
      "enter the elements of the list3\n",
      "enter the elements of the list4\n",
      "[1, 2, 3, 4]\n",
      "the smallest element is = 1\n"
     ]
    }
   ],
   "source": [
    "#Find min list element on inputs provided by user. \n",
    "lst1 = []\n",
    "size = int(input('enter the size of your desired list'))\n",
    "\n",
    "for i in range(size):\n",
    "    ele = int(input('enter the elements of the list'))\n",
    "    lst1.append(ele)\n",
    "print(lst1)\n",
    "print('the smallest element is =', min(lst1))"
   ]
  },
  {
   "cell_type": "code",
   "execution_count": null,
   "metadata": {},
   "outputs": [],
   "source": []
  }
 ],
 "metadata": {
  "kernelspec": {
   "display_name": "Python 3",
   "language": "python",
   "name": "python3"
  },
  "language_info": {
   "codemirror_mode": {
    "name": "ipython",
    "version": 3
   },
   "file_extension": ".py",
   "mimetype": "text/x-python",
   "name": "python",
   "nbconvert_exporter": "python",
   "pygments_lexer": "ipython3",
   "version": "3.8.5"
  }
 },
 "nbformat": 4,
 "nbformat_minor": 4
}
