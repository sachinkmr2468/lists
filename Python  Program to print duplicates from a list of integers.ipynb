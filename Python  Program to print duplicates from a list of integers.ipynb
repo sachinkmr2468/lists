{
 "cells": [
  {
   "cell_type": "markdown",
   "metadata": {},
   "source": [
    "# Python | Program to print duplicates from a list of integers\n"
   ]
  },
  {
   "cell_type": "code",
   "execution_count": 5,
   "metadata": {},
   "outputs": [
    {
     "name": "stdout",
     "output_type": "stream",
     "text": [
      "20 20 30 60 -20 -20 "
     ]
    }
   ],
   "source": [
    "# will create a new list and append all the items of old lists which are nt there in new list, rest will print it out and will be the \n",
    "#dublicate vaues.\n",
    "\n",
    "lists = [10, 20, 30, 20, 20, 30, 40, 50, -20, 60, 60, -20, -20]\n",
    "l = []\n",
    "for i in lists:\n",
    "    if i not in l:\n",
    "        l.append(i)\n",
    "    else:\n",
    "        print(i, end=' ')\n",
    "    "
   ]
  },
  {
   "cell_type": "code",
   "execution_count": null,
   "metadata": {},
   "outputs": [],
   "source": []
  }
 ],
 "metadata": {
  "kernelspec": {
   "display_name": "Python 3",
   "language": "python",
   "name": "python3"
  }
 },
 "nbformat": 4,
 "nbformat_minor": 4
}
