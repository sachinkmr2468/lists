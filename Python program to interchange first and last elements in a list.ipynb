{
 "cells": [
  {
   "cell_type": "markdown",
   "metadata": {},
   "source": [
    "# Python program to interchange first and last elements in a list\n",
    "#Examples:\n",
    "\n",
    "#Input : [12, 35, 9, 56, 24]\n",
    "#Output : [24, 35, 9, 56, 12]\n",
    "\n",
    "#Input : [1, 2, 3]\n",
    "#Output : [3, 2, 1]\n"
   ]
  },
  {
   "cell_type": "code",
   "execution_count": 6,
   "metadata": {},
   "outputs": [
    {
     "name": "stdout",
     "output_type": "stream",
     "text": [
      "6\n",
      "[6, 2, 3, 4, 5, 1]\n"
     ]
    }
   ],
   "source": [
    "lists = [1,2,3,4,5,6]\n",
    "size = len(lists)\n",
    "print(size)\n",
    "temp = lists[0]\n",
    "lists[0] = lists[size -1]\n",
    "lists[size - 1] = temp\n",
    "print(lists)\n",
    "\n"
   ]
  },
  {
   "cell_type": "code",
   "execution_count": 7,
   "metadata": {},
   "outputs": [
    {
     "name": "stdout",
     "output_type": "stream",
     "text": [
      "[5, 2, 3, 4, 1]\n"
     ]
    }
   ],
   "source": [
    "lists = [1,2,3,4,5]\n",
    "size = len(lists)\n",
    "lists[0], lists[size - 1] = lists[size-1], lists[0]\n",
    "print(lists)"
   ]
  },
  {
   "cell_type": "code",
   "execution_count": 17,
   "metadata": {},
   "outputs": [
    {
     "name": "stdout",
     "output_type": "stream",
     "text": [
      "enter a list12345\n",
      "['1', '2', '3', '4', '5']\n",
      "<class 'list'>\n",
      "['5', '2', '3', '4', '1']\n"
     ]
    }
   ],
   "source": [
    "lists = list(input('enter a list'))\n",
    "print(lists)\n",
    "print(type(lists))\n",
    "size = len(lists)\n",
    "lists[0] , lists[size - 1] = lists[size - 1], lists[0]\n",
    "print(lists)"
   ]
  },
  {
   "cell_type": "code",
   "execution_count": 21,
   "metadata": {},
   "outputs": [
    {
     "name": "stdout",
     "output_type": "stream",
     "text": [
      "original  list 12345\n",
      "newlist =  ['5', '2', '3', '4', '1']\n"
     ]
    }
   ],
   "source": [
    "def swaplist(lists):\n",
    "    \n",
    "    lists[0], lists[-1] = lists[-1], lists[0]\n",
    "    print('newlist = ', lists)\n",
    "\n",
    "l1 = list(input('original  list '))\n",
    "swaplist(l1)"
   ]
  },
  {
   "cell_type": "code",
   "execution_count": null,
   "metadata": {},
   "outputs": [],
   "source": []
  }
 ],
 "metadata": {
  "kernelspec": {
   "display_name": "Python 3",
   "language": "python",
   "name": "python3"
  },
  "language_info": {
   "codemirror_mode": {
    "name": "ipython",
    "version": 3
   },
   "file_extension": ".py",
   "mimetype": "text/x-python",
   "name": "python",
   "nbconvert_exporter": "python",
   "pygments_lexer": "ipython3",
   "version": "3.8.5"
  }
 },
 "nbformat": 4,
 "nbformat_minor": 4
}
