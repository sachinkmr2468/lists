{
 "cells": [
  {
   "cell_type": "code",
   "execution_count": 5,
   "metadata": {},
   "outputs": [],
   "source": [
    "# Python program to find N largest elements from a list"
   ]
  },
  {
   "cell_type": "code",
   "execution_count": 1,
   "metadata": {},
   "outputs": [
    {
     "name": "stdout",
     "output_type": "stream",
     "text": [
      "n largest numbers are = 20 10\n"
     ]
    }
   ],
   "source": [
    "lst = [10,9,20,5]\n",
    "new_lst = set(lst)\n",
    "n = 2\n",
    "size = len(lst)\n",
    "\n",
    "if (n<=size):\n",
    "    largest1 = max(new_lst)\n",
    "    new_lst.remove(max(new_lst))\n",
    "    \n",
    "    largest2 = max(new_lst)\n",
    "    print('n largest numbers are =', largest1,largest2)\n",
    "else:\n",
    "    print('the lengt of N should be less than the size of list')\n",
    "    \n",
    "        "
   ]
  },
  {
   "cell_type": "code",
   "execution_count": 2,
   "metadata": {},
   "outputs": [
    {
     "name": "stdout",
     "output_type": "stream",
     "text": [
      "n largest numbers are = 20 10\n"
     ]
    }
   ],
   "source": [
    "lst = [10,9,20,5]\n",
    "n = 2\n",
    "size = len(lst)\n",
    "if (n<=size):\n",
    "    lst.sort()\n",
    "    print('n largest numbers are =', lst[-1], lst[-2])\n",
    "else:\n",
    "    print('the lengt of N should be less than the size of list')"
   ]
  },
  {
   "cell_type": "code",
   "execution_count": 4,
   "metadata": {},
   "outputs": [
    {
     "name": "stdout",
     "output_type": "stream",
     "text": [
      "enter a number3\n",
      "n largest elements are = [9, 10, 20]\n"
     ]
    }
   ],
   "source": [
    "lst = [10,9,20,5]\n",
    "n = int(input('enter a number'))\n",
    "\n",
    "if (n<= len(lst)):\n",
    "    lst.sort()\n",
    "    print('n largest elements are =', lst[-n:])\n",
    "else:\n",
    "    print('the lengt of N should be less than the size of list')\n",
    "    \n",
    "    "
   ]
  },
  {
   "cell_type": "code",
   "execution_count": null,
   "metadata": {},
   "outputs": [],
   "source": []
  }
 ],
 "metadata": {
  "kernelspec": {
   "display_name": "Python 3",
   "language": "python",
   "name": "python3"
  },
  "language_info": {
   "codemirror_mode": {
    "name": "ipython",
    "version": 3
   },
   "file_extension": ".py",
   "mimetype": "text/x-python",
   "name": "python",
   "nbconvert_exporter": "python",
   "pygments_lexer": "ipython3",
   "version": "3.8.5"
  }
 },
 "nbformat": 4,
 "nbformat_minor": 4
}
