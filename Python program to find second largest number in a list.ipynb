{
 "cells": [
  {
   "cell_type": "markdown",
   "metadata": {},
   "source": [
    "# Python program to find second largest number in a list"
   ]
  },
  {
   "cell_type": "code",
   "execution_count": 20,
   "metadata": {},
   "outputs": [
    {
     "name": "stdout",
     "output_type": "stream",
     "text": [
      "[5, 9, 10, 20]\n",
      "2nd largest number is = 10\n"
     ]
    }
   ],
   "source": [
    "lst = [10,9,20,5]\n",
    "lst.sort()\n",
    "print(lst)\n",
    "print('2nd largest number is =', lst[-2])\n",
    "        "
   ]
  },
  {
   "cell_type": "code",
   "execution_count": 23,
   "metadata": {},
   "outputs": [
    {
     "name": "stdout",
     "output_type": "stream",
     "text": [
      "temp list = {99, 4, 10, 45, 20}\n",
      "45\n"
     ]
    }
   ],
   "source": [
    "#Idea is remove the largest element from the list and print the next largest element\n",
    "list1 = [10, 20, 4, 45, 99]\n",
    " \n",
    "# new_list is a set of list1\n",
    "new_list = set(list1)\n",
    "\n",
    "print('temp list =', new_list)\n",
    " \n",
    "# removing the largest element from temp list\n",
    "new_list.remove(max(new_list))\n",
    "\n",
    " \n",
    "print(max(new_list))"
   ]
  },
  {
   "cell_type": "code",
   "execution_count": null,
   "metadata": {},
   "outputs": [],
   "source": []
  }
 ],
 "metadata": {
  "kernelspec": {
   "display_name": "Python 3",
   "language": "python",
   "name": "python3"
  },
  "language_info": {
   "codemirror_mode": {
    "name": "ipython",
    "version": 3
   },
   "file_extension": ".py",
   "mimetype": "text/x-python",
   "name": "python",
   "nbconvert_exporter": "python",
   "pygments_lexer": "ipython3",
   "version": "3.8.5"
  }
 },
 "nbformat": 4,
 "nbformat_minor": 4
}
